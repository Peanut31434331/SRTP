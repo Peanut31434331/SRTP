{
 "cells": [
  {
   "cell_type": "markdown",
   "metadata": {
    "colab_type": "text",
    "id": "view-in-github"
   },
   "source": [
    "<a href=\"https://colab.research.google.com/github/blhprasanna99/speech_emotion_detection/blob/master/emotion_spectogram_CNN_2D.ipynb\" target=\"_parent\"><img src=\"https://colab.research.google.com/assets/colab-badge.svg\" alt=\"Open In Colab\"/></a>"
   ]
  },
  {
   "cell_type": "markdown",
   "metadata": {
    "colab_type": "text",
    "id": "qMHuTZE2OnrN"
   },
   "source": []
  },
  {
   "cell_type": "code",
   "execution_count": 15,
   "metadata": {
    "colab": {
     "base_uri": "https://localhost:8080/",
     "height": 141
    },
    "colab_type": "code",
    "id": "1EgnOS4qOqNU",
    "outputId": "9a58fc95-a40d-457d-bc86-3f10d12364b0"
   },
   "outputs": [
    {
     "name": "stdout",
     "output_type": "stream",
     "text": [
      "Requirement already satisfied: soundfile in d:\\anaconda3\\lib\\site-packages (0.10.3.post1)\n",
      "Requirement already satisfied: cffi>=1.0 in d:\\anaconda3\\lib\\site-packages (from soundfile) (1.14.0)\n",
      "Requirement already satisfied: pycparser in d:\\anaconda3\\lib\\site-packages (from cffi>=1.0->soundfile) (2.19)\n"
     ]
    }
   ],
   "source": [
    "!pip install soundfile"
   ]
  },
  {
   "cell_type": "code",
   "execution_count": 16,
   "metadata": {
    "colab": {
     "base_uri": "https://localhost:8080/",
     "height": 309
    },
    "colab_type": "code",
    "id": "lA679ZiMgofx",
    "outputId": "67d55e59-949c-46a9-ca86-b85b250f3ed3"
   },
   "outputs": [
    {
     "ename": "ModuleNotFoundError",
     "evalue": "No module named 'cv2'",
     "output_type": "error",
     "traceback": [
      "\u001b[1;31m---------------------------------------------------------------------------\u001b[0m",
      "\u001b[1;31mModuleNotFoundError\u001b[0m                       Traceback (most recent call last)",
      "\u001b[1;32m<ipython-input-16-2ae9cadc86fd>\u001b[0m in \u001b[0;36m<module>\u001b[1;34m\u001b[0m\n\u001b[1;32m----> 1\u001b[1;33m \u001b[1;32mimport\u001b[0m \u001b[0mcv2\u001b[0m \u001b[1;31m#to preprocess images(open cv)\u001b[0m\u001b[1;33m\u001b[0m\u001b[1;33m\u001b[0m\u001b[0m\n\u001b[0m\u001b[0;32m      2\u001b[0m \u001b[1;32mimport\u001b[0m \u001b[0mos\u001b[0m \u001b[1;31m#to access file directories\u001b[0m\u001b[1;33m\u001b[0m\u001b[1;33m\u001b[0m\u001b[0m\n\u001b[0;32m      3\u001b[0m \u001b[1;32mimport\u001b[0m \u001b[0mnumpy\u001b[0m \u001b[1;32mas\u001b[0m \u001b[0mnp\u001b[0m \u001b[1;31m# to deal with multidimensional matrices\u001b[0m\u001b[1;33m\u001b[0m\u001b[1;33m\u001b[0m\u001b[0m\n\u001b[0;32m      4\u001b[0m \u001b[1;32mfrom\u001b[0m \u001b[0mrandom\u001b[0m \u001b[1;32mimport\u001b[0m \u001b[0mshuffle\u001b[0m\u001b[1;33m\u001b[0m\u001b[1;33m\u001b[0m\u001b[0m\n\u001b[0;32m      5\u001b[0m \u001b[1;32mfrom\u001b[0m \u001b[0mtqdm\u001b[0m \u001b[1;32mimport\u001b[0m \u001b[0mtqdm\u001b[0m\u001b[1;33m\u001b[0m\u001b[1;33m\u001b[0m\u001b[0m\n",
      "\u001b[1;31mModuleNotFoundError\u001b[0m: No module named 'cv2'"
     ]
    }
   ],
   "source": [
    "import cv2 #to preprocess images(open cv)\n",
    "import os #to access file directories\n",
    "import numpy as np # to deal with multidimensional matrices\n",
    "from random import shuffle \n",
    "from tqdm import tqdm\n",
    "from sklearn.metrics import accuracy_score \n",
    "import matplotlib.pyplot as plt\n",
    "import matplotlib.image as mpimg\n",
    "import random\n",
    "import tensorflow as tf \n",
    "import tflearn \n",
    "from tflearn.layers.conv import conv_2d, max_pool_2d \n",
    "from tflearn.layers.core import input_data, dropout, fully_connected \n",
    "from tflearn.layers.estimator import regression \n",
    "\n",
    "'''Setting up the env'''\n",
    "  \n",
    "\n",
    "IMG_SIZE = 150\n",
    "LR = 1e-3"
   ]
  },
  {
   "cell_type": "code",
   "execution_count": 17,
   "metadata": {
    "colab": {},
    "colab_type": "code",
    "id": "wC4q6r9KOoBk"
   },
   "outputs": [
    {
     "ename": "ModuleNotFoundError",
     "evalue": "No module named 'librosa'",
     "output_type": "error",
     "traceback": [
      "\u001b[1;31m---------------------------------------------------------------------------\u001b[0m",
      "\u001b[1;31mModuleNotFoundError\u001b[0m                       Traceback (most recent call last)",
      "\u001b[1;32m<ipython-input-17-cc387cbc7ee9>\u001b[0m in \u001b[0;36m<module>\u001b[1;34m\u001b[0m\n\u001b[0;32m      1\u001b[0m \u001b[1;32mimport\u001b[0m \u001b[0msoundfile\u001b[0m\u001b[1;33m\u001b[0m\u001b[1;33m\u001b[0m\u001b[0m\n\u001b[0;32m      2\u001b[0m \u001b[1;32mimport\u001b[0m \u001b[0mnumpy\u001b[0m \u001b[1;32mas\u001b[0m \u001b[0mnp\u001b[0m\u001b[1;33m\u001b[0m\u001b[1;33m\u001b[0m\u001b[0m\n\u001b[1;32m----> 3\u001b[1;33m \u001b[1;32mimport\u001b[0m \u001b[0mlibrosa\u001b[0m\u001b[1;33m\u001b[0m\u001b[1;33m\u001b[0m\u001b[0m\n\u001b[0m\u001b[0;32m      4\u001b[0m \u001b[1;32mimport\u001b[0m \u001b[0mglob\u001b[0m\u001b[1;33m\u001b[0m\u001b[1;33m\u001b[0m\u001b[0m\n\u001b[0;32m      5\u001b[0m \u001b[1;32mimport\u001b[0m \u001b[0mos\u001b[0m\u001b[1;33m\u001b[0m\u001b[1;33m\u001b[0m\u001b[0m\n",
      "\u001b[1;31mModuleNotFoundError\u001b[0m: No module named 'librosa'"
     ]
    }
   ],
   "source": [
    "import soundfile\n",
    "import numpy as np\n",
    "import librosa\n",
    "import glob\n",
    "import os\n",
    "from sklearn.model_selection import train_test_split\n",
    "\n",
    "# all emotions on RAVDESS dataset\n",
    "int2emotion = {\n",
    "    \"01\": \"neutral\",\n",
    "    \"02\": \"calm\",\n",
    "    \"03\": \"happy\",\n",
    "    \"04\": \"sad\",\n",
    "    \"05\": \"angry\",\n",
    "    \"06\": \"fearful\",\n",
    "    \"07\": \"disgust\",\n",
    "    \"08\": \"surprised\"\n",
    "}\n",
    "\n",
    "# we allow only these emotions\n",
    "AVAILABLE_EMOTIONS = {\n",
    "    \"angry\",\n",
    "    \"sad\",\n",
    "    \"neutral\",\n",
    "    \"happy\"\n",
    "}"
   ]
  },
  {
   "cell_type": "code",
   "execution_count": null,
   "metadata": {
    "colab": {
     "base_uri": "https://localhost:8080/",
     "height": 34
    },
    "colab_type": "code",
    "id": "rMECjzJ_FGV9",
    "outputId": "00f5376c-504c-4d09-a277-de31d9e8418f"
   },
   "outputs": [],
   "source": [
    "import matplotlib.pyplot as plt\n",
    "\n",
    "#for loading and visualizing audio files\n",
    "import librosa\n",
    "import librosa.display\n",
    "\n",
    "#to play audio\n",
    "import IPython.display as ipd\n",
    "\n",
    "audio_fpath = \"/content/drive/My Drive/wav/Actor_01\"\n",
    "audio_clips = os.listdir(audio_fpath)\n",
    "print(\"No. of .wav files in audio folder = \",len(audio_clips))"
   ]
  },
  {
   "cell_type": "code",
   "execution_count": null,
   "metadata": {
    "colab": {
     "base_uri": "https://localhost:8080/",
     "height": 52
    },
    "colab_type": "code",
    "id": "2RI5Dx4-Fy_P",
    "outputId": "ce471698-1eae-49fc-f99a-e743f94f54e8"
   },
   "outputs": [],
   "source": [
    "x, sr = librosa.load('/content/drive/My Drive/wav/Actor_01/03-01-01-01-01-01-01.wav', sr=44100)\n",
    "\n",
    "print(type(x), type(sr))\n",
    "print(x.shape, sr)"
   ]
  },
  {
   "cell_type": "code",
   "execution_count": null,
   "metadata": {
    "colab": {
     "base_uri": "https://localhost:8080/",
     "height": 372
    },
    "colab_type": "code",
    "id": "XcQOcSOVH7T3",
    "outputId": "7ec655d3-687b-4c8a-a95b-6a769449e408"
   },
   "outputs": [],
   "source": [
    "plt.figure(figsize=(14, 5))\n",
    "librosa.display.waveplot(x, sr=sr)"
   ]
  },
  {
   "cell_type": "code",
   "execution_count": null,
   "metadata": {
    "colab": {
     "base_uri": "https://localhost:8080/",
     "height": 372
    },
    "colab_type": "code",
    "id": "tm4z7su4IHW9",
    "outputId": "7833d147-4742-42a5-c30f-72135eeb1f57"
   },
   "outputs": [],
   "source": [
    "X = librosa.stft(x)\n",
    "Xdb = librosa.amplitude_to_db(abs(X))\n",
    "plt.figure(figsize=(14, 5))\n",
    "librosa.display.specshow(Xdb, sr=sr, x_axis='time', y_axis='hz')\n",
    "plt.colorbar()"
   ]
  },
  {
   "cell_type": "code",
   "execution_count": null,
   "metadata": {
    "colab": {
     "base_uri": "https://localhost:8080/",
     "height": 372
    },
    "colab_type": "code",
    "id": "SINzCyjUIOYl",
    "outputId": "5abc4196-8dbf-47a4-89f6-88c35c601dca"
   },
   "outputs": [],
   "source": [
    "plt.figure(figsize=(14, 5))\n",
    "librosa.display.specshow(Xdb, sr=sr, x_axis='time', y_axis='log')\n",
    "plt.colorbar()"
   ]
  },
  {
   "cell_type": "code",
   "execution_count": null,
   "metadata": {
    "colab": {},
    "colab_type": "code",
    "id": "Ac708Y64L9Zg"
   },
   "outputs": [],
   "source": [
    "def label_img(emotion):\n",
    "    # DIY One hot encoder\n",
    "    if emotion == 'happy': return [1, 0,0,0]\n",
    "    elif emotion == 'sad': return [0, 1,0,0]\n",
    "    elif emotion=='angry' : return [0,0, 1,0]\n",
    "    elif emotion=='neutral' : return [0,0,0,1]"
   ]
  },
  {
   "cell_type": "code",
   "execution_count": null,
   "metadata": {
    "colab": {},
    "colab_type": "code",
    "id": "ofa_pG_8JJXA"
   },
   "outputs": [],
   "source": [
    "training_data=[]\n",
    "# loading the training data \n",
    "def create_train_data(): \n",
    "  try :\n",
    "    for file in glob.glob(\"/content/drive/My Drive/spectograms_audio/images_*/*.png\"):\n",
    "          # get the base name of the audio file\n",
    "          basename = os.path.basename(file)\n",
    "          print(basename)\n",
    "          img=file\n",
    "            # get the emotion label\n",
    "          emotion = int2emotion[basename.split(\"-\")[2]]\n",
    "                  # we allow only AVAILABLE_EMOTIONS we set\n",
    "          if emotion not in AVAILABLE_EMOTIONS:\n",
    "            continue\n",
    "          label = label_img(emotion) \n",
    "          \n",
    "          path = os.path.join(file, img) \n",
    "          \n",
    "                # loading the image from the path and then converting them into \n",
    "                # greyscale for easier covnet prob \n",
    "          img = cv2.imread(path, cv2.IMREAD_GRAYSCALE) \n",
    "          \n",
    "                # resizing the image for processing them in the covnet \n",
    "          img = cv2.resize(img, (IMG_SIZE, IMG_SIZE)) \n",
    "          \n",
    "                # final step-forming the training data list with numpy array of the images \n",
    "          training_data.append([np.array(img), np.array(label)]) \n",
    "          \n",
    "  except :\n",
    "    pass\n",
    "  return training_data"
   ]
  },
  {
   "cell_type": "code",
   "execution_count": null,
   "metadata": {
    "colab": {
     "base_uri": "https://localhost:8080/",
     "height": 1000
    },
    "colab_type": "code",
    "id": "S7YfePtFzsv-",
    "outputId": "aec14f7a-3e17-4bb2-ac2e-7a48887c4059"
   },
   "outputs": [],
   "source": [
    "m=create_train_data()"
   ]
  },
  {
   "cell_type": "code",
   "execution_count": 3,
   "metadata": {
    "colab": {
     "base_uri": "https://localhost:8080/",
     "height": 1000
    },
    "colab_type": "code",
    "id": "drHMxSWUiRlz",
    "outputId": "db89bd8a-a4be-4b99-ff14-25a18e4f5111"
   },
   "outputs": [
    {
     "ename": "NameError",
     "evalue": "name 'np' is not defined",
     "output_type": "error",
     "traceback": [
      "\u001b[1;31m---------------------------------------------------------------------------\u001b[0m",
      "\u001b[1;31mNameError\u001b[0m                                 Traceback (most recent call last)",
      "\u001b[1;32m<ipython-input-3-6470aeb14450>\u001b[0m in \u001b[0;36m<module>\u001b[1;34m\u001b[0m\n\u001b[1;32m----> 1\u001b[1;33m \u001b[0mt\u001b[0m\u001b[1;33m=\u001b[0m\u001b[0mnp\u001b[0m\u001b[1;33m.\u001b[0m\u001b[0marray\u001b[0m\u001b[1;33m(\u001b[0m\u001b[0mtraining_data\u001b[0m\u001b[1;33m)\u001b[0m\u001b[1;33m\u001b[0m\u001b[1;33m\u001b[0m\u001b[0m\n\u001b[0m\u001b[0;32m      2\u001b[0m \u001b[0mm\u001b[0m\u001b[1;33m\u001b[0m\u001b[1;33m\u001b[0m\u001b[0m\n",
      "\u001b[1;31mNameError\u001b[0m: name 'np' is not defined"
     ]
    }
   ],
   "source": [
    "t=np.array(training_data)\n",
    "m"
   ]
  },
  {
   "cell_type": "code",
   "execution_count": 4,
   "metadata": {
    "colab": {
     "base_uri": "https://localhost:8080/",
     "height": 1000
    },
    "colab_type": "code",
    "id": "2AOBiI7lw1Gx",
    "outputId": "41ba3563-3bf7-4b01-b761-8e93d4edde52"
   },
   "outputs": [
    {
     "ename": "NameError",
     "evalue": "name 'training_data' is not defined",
     "output_type": "error",
     "traceback": [
      "\u001b[1;31m---------------------------------------------------------------------------\u001b[0m",
      "\u001b[1;31mNameError\u001b[0m                                 Traceback (most recent call last)",
      "\u001b[1;32m<ipython-input-4-0706f30fca26>\u001b[0m in \u001b[0;36m<module>\u001b[1;34m\u001b[0m\n\u001b[1;32m----> 1\u001b[1;33m \u001b[1;32mfor\u001b[0m \u001b[0mimg\u001b[0m \u001b[1;32min\u001b[0m \u001b[0mtraining_data\u001b[0m\u001b[1;33m[\u001b[0m\u001b[1;33m:\u001b[0m\u001b[1;36m10\u001b[0m\u001b[1;33m]\u001b[0m \u001b[1;33m:\u001b[0m\u001b[1;33m\u001b[0m\u001b[1;33m\u001b[0m\u001b[0m\n\u001b[0m\u001b[0;32m      2\u001b[0m     \u001b[0mplt\u001b[0m\u001b[1;33m.\u001b[0m\u001b[0mimshow\u001b[0m\u001b[1;33m(\u001b[0m\u001b[0mimg\u001b[0m\u001b[1;33m[\u001b[0m\u001b[1;36m0\u001b[0m\u001b[1;33m]\u001b[0m\u001b[1;33m)\u001b[0m\u001b[1;33m\u001b[0m\u001b[1;33m\u001b[0m\u001b[0m\n\u001b[0;32m      3\u001b[0m     \u001b[0mplt\u001b[0m\u001b[1;33m.\u001b[0m\u001b[0mshow\u001b[0m\u001b[1;33m(\u001b[0m\u001b[1;33m)\u001b[0m\u001b[1;33m\u001b[0m\u001b[1;33m\u001b[0m\u001b[0m\n",
      "\u001b[1;31mNameError\u001b[0m: name 'training_data' is not defined"
     ]
    }
   ],
   "source": [
    "for img in training_data[:10] :\n",
    "    plt.imshow(img[0])\n",
    "    plt.show()"
   ]
  },
  {
   "cell_type": "code",
   "execution_count": 5,
   "metadata": {
    "colab": {
     "base_uri": "https://localhost:8080/",
     "height": 834
    },
    "colab_type": "code",
    "id": "_oioV8M92JV-",
    "outputId": "9080e8d9-c5db-4880-cfb9-463708014ddb"
   },
   "outputs": [
    {
     "ename": "NameError",
     "evalue": "name 'tf' is not defined",
     "output_type": "error",
     "traceback": [
      "\u001b[1;31m---------------------------------------------------------------------------\u001b[0m",
      "\u001b[1;31mNameError\u001b[0m                                 Traceback (most recent call last)",
      "\u001b[1;32m<ipython-input-5-514f898d7956>\u001b[0m in \u001b[0;36m<module>\u001b[1;34m\u001b[0m\n\u001b[1;32m----> 1\u001b[1;33m \u001b[0mtf\u001b[0m\u001b[1;33m.\u001b[0m\u001b[0mreset_default_graph\u001b[0m\u001b[1;33m(\u001b[0m\u001b[1;33m)\u001b[0m\u001b[1;33m\u001b[0m\u001b[1;33m\u001b[0m\u001b[0m\n\u001b[0m\u001b[0;32m      2\u001b[0m \u001b[0mconvnet\u001b[0m \u001b[1;33m=\u001b[0m \u001b[0minput_data\u001b[0m\u001b[1;33m(\u001b[0m\u001b[0mshape\u001b[0m \u001b[1;33m=\u001b[0m\u001b[1;33m[\u001b[0m\u001b[1;32mNone\u001b[0m\u001b[1;33m,\u001b[0m \u001b[0mIMG_SIZE\u001b[0m\u001b[1;33m,\u001b[0m \u001b[0mIMG_SIZE\u001b[0m\u001b[1;33m,\u001b[0m \u001b[1;36m1\u001b[0m\u001b[1;33m]\u001b[0m\u001b[1;33m,\u001b[0m \u001b[0mname\u001b[0m \u001b[1;33m=\u001b[0m\u001b[1;34m'input'\u001b[0m\u001b[1;33m)\u001b[0m\u001b[1;33m\u001b[0m\u001b[1;33m\u001b[0m\u001b[0m\n\u001b[0;32m      3\u001b[0m \u001b[1;33m\u001b[0m\u001b[0m\n\u001b[0;32m      4\u001b[0m \u001b[0mconvnet\u001b[0m \u001b[1;33m=\u001b[0m \u001b[0mconv_2d\u001b[0m\u001b[1;33m(\u001b[0m\u001b[0mconvnet\u001b[0m\u001b[1;33m,\u001b[0m \u001b[1;36m32\u001b[0m\u001b[1;33m,\u001b[0m \u001b[1;36m5\u001b[0m\u001b[1;33m,\u001b[0m \u001b[0mactivation\u001b[0m \u001b[1;33m=\u001b[0m\u001b[1;34m'relu'\u001b[0m\u001b[1;33m)\u001b[0m\u001b[1;33m\u001b[0m\u001b[1;33m\u001b[0m\u001b[0m\n\u001b[0;32m      5\u001b[0m \u001b[0mconvnet\u001b[0m \u001b[1;33m=\u001b[0m \u001b[0mmax_pool_2d\u001b[0m\u001b[1;33m(\u001b[0m\u001b[0mconvnet\u001b[0m\u001b[1;33m,\u001b[0m \u001b[1;36m5\u001b[0m\u001b[1;33m)\u001b[0m\u001b[1;33m\u001b[0m\u001b[1;33m\u001b[0m\u001b[0m\n",
      "\u001b[1;31mNameError\u001b[0m: name 'tf' is not defined"
     ]
    }
   ],
   "source": [
    "tf.reset_default_graph() \n",
    "convnet = input_data(shape =[None, IMG_SIZE, IMG_SIZE, 1], name ='input') \n",
    "  \n",
    "convnet = conv_2d(convnet, 32, 5, activation ='relu') \n",
    "convnet = max_pool_2d(convnet, 5) \n",
    "  \n",
    "convnet = conv_2d(convnet, 64, 5, activation ='relu') \n",
    "convnet = max_pool_2d(convnet, 5) \n",
    "  \n",
    "convnet = conv_2d(convnet, 128, 5, activation ='relu') \n",
    "convnet = max_pool_2d(convnet, 5) \n",
    "  \n",
    "convnet = conv_2d(convnet, 64, 5, activation ='relu') \n",
    "convnet = max_pool_2d(convnet, 5) \n",
    "  \n",
    "convnet = conv_2d(convnet, 32, 5, activation ='relu') \n",
    "convnet = max_pool_2d(convnet, 5) \n",
    "  \n",
    "convnet = fully_connected(convnet, 1024, activation ='relu') \n",
    "convnet = dropout(convnet, 0.8) \n",
    "  \n",
    "convnet = fully_connected(convnet, 4, activation ='softmax') \n",
    "convnet = regression(convnet, optimizer ='adam', learning_rate = LR, \n",
    "      loss ='categorical_crossentropy', name ='targets') \n",
    "  \n",
    "model = tflearn.DNN(convnet, tensorboard_dir ='log') "
   ]
  },
  {
   "cell_type": "code",
   "execution_count": 6,
   "metadata": {
    "colab": {
     "base_uri": "https://localhost:8080/",
     "height": 34
    },
    "colab_type": "code",
    "id": "m2wvDTsy2Kqn",
    "outputId": "000a7214-ba62-45a6-8a70-680d8cd98ee7"
   },
   "outputs": [
    {
     "ename": "NameError",
     "evalue": "name 'np' is not defined",
     "output_type": "error",
     "traceback": [
      "\u001b[1;31m---------------------------------------------------------------------------\u001b[0m",
      "\u001b[1;31mNameError\u001b[0m                                 Traceback (most recent call last)",
      "\u001b[1;32m<ipython-input-6-80278d1ae700>\u001b[0m in \u001b[0;36m<module>\u001b[1;34m\u001b[0m\n\u001b[1;32m----> 1\u001b[1;33m \u001b[0mX\u001b[0m \u001b[1;33m=\u001b[0m \u001b[0mnp\u001b[0m\u001b[1;33m.\u001b[0m\u001b[0marray\u001b[0m\u001b[1;33m(\u001b[0m\u001b[1;33m[\u001b[0m\u001b[0mimg\u001b[0m\u001b[1;33m[\u001b[0m\u001b[1;36m0\u001b[0m\u001b[1;33m]\u001b[0m \u001b[1;32mfor\u001b[0m \u001b[0mimg\u001b[0m \u001b[1;32min\u001b[0m \u001b[0mm\u001b[0m\u001b[1;33m]\u001b[0m\u001b[1;33m)\u001b[0m\u001b[1;33m.\u001b[0m\u001b[0mreshape\u001b[0m\u001b[1;33m(\u001b[0m\u001b[1;33m-\u001b[0m\u001b[1;36m1\u001b[0m\u001b[1;33m,\u001b[0m \u001b[0mIMG_SIZE\u001b[0m\u001b[1;33m,\u001b[0m \u001b[0mIMG_SIZE\u001b[0m\u001b[1;33m,\u001b[0m \u001b[1;36m1\u001b[0m\u001b[1;33m)\u001b[0m\u001b[1;33m\u001b[0m\u001b[1;33m\u001b[0m\u001b[0m\n\u001b[0m\u001b[0;32m      2\u001b[0m \u001b[0mY\u001b[0m \u001b[1;33m=\u001b[0m \u001b[1;33m[\u001b[0m\u001b[0mimg\u001b[0m\u001b[1;33m[\u001b[0m\u001b[1;36m1\u001b[0m\u001b[1;33m]\u001b[0m \u001b[1;32mfor\u001b[0m \u001b[0mimg\u001b[0m \u001b[1;32min\u001b[0m \u001b[0mm\u001b[0m\u001b[1;33m]\u001b[0m\u001b[1;33m\u001b[0m\u001b[1;33m\u001b[0m\u001b[0m\n\u001b[0;32m      3\u001b[0m \u001b[1;34m'''Fitting the data into our model'''\u001b[0m\u001b[1;33m\u001b[0m\u001b[1;33m\u001b[0m\u001b[0m\n\u001b[0;32m      4\u001b[0m \u001b[1;31m#model_name='cnn_model'\u001b[0m\u001b[1;33m\u001b[0m\u001b[1;33m\u001b[0m\u001b[1;33m\u001b[0m\u001b[0m\n\u001b[0;32m      5\u001b[0m \u001b[1;31m# epoch = 5 taken\u001b[0m\u001b[1;33m\u001b[0m\u001b[1;33m\u001b[0m\u001b[1;33m\u001b[0m\u001b[0m\n",
      "\u001b[1;31mNameError\u001b[0m: name 'np' is not defined"
     ]
    }
   ],
   "source": [
    "X = np.array([img[0] for img in m]).reshape(-1, IMG_SIZE, IMG_SIZE, 1) \n",
    "Y = [img[1] for img in m] \n",
    "'''Fitting the data into our model'''\n",
    "#model_name='cnn_model'\n",
    "# epoch = 5 taken \n",
    "#model.fit({'input': np.array(X_train)}, {'targets': y_train}, n_epoch = 10,run_id=model_name) \n",
    "#Y.shape() "
   ]
  },
  {
   "cell_type": "code",
   "execution_count": 0,
   "metadata": {
    "colab": {},
    "colab_type": "code",
    "id": "IE14y1WWSUz8"
   },
   "outputs": [],
   "source": [
    "X_train,X_test,y_train,y_test=train_test_split(X,Y,test_size=0.20)"
   ]
  },
  {
   "cell_type": "code",
   "execution_count": 17,
   "metadata": {
    "colab": {
     "base_uri": "https://localhost:8080/",
     "height": 104
    },
    "colab_type": "code",
    "id": "Adt157OqSYta",
    "outputId": "a44cb6b1-522d-4f22-ec17-7f2373f44d5d"
   },
   "outputs": [
    {
     "name": "stdout",
     "output_type": "stream",
     "text": [
      "Training Step: 6999  | total loss: \u001b[1m\u001b[32m0.16524\u001b[0m\u001b[0m | time: 0.232s\n",
      "| Adam | epoch: 500 | loss: 0.16524 - acc: 0.9819 -- iter: 832/837\n",
      "Training Step: 7000  | total loss: \u001b[1m\u001b[32m0.15480\u001b[0m\u001b[0m | time: 0.252s\n",
      "| Adam | epoch: 500 | loss: 0.15480 - acc: 0.9821 -- iter: 837/837\n",
      "--\n"
     ]
    }
   ],
   "source": [
    "model_name='cnn_model'\n",
    "# epoch = 50 taken \n",
    "model.fit({'input': X_train}, {'targets': y_train}, n_epoch = 500,snapshot_step=300,show_metric=True,run_id=model_name)  "
   ]
  },
  {
   "cell_type": "code",
   "execution_count": 0,
   "metadata": {
    "colab": {},
    "colab_type": "code",
    "id": "vMKG93CZ3dZ4"
   },
   "outputs": [],
   "source": [
    " import sklearn.metrics as  metrics\n",
    "from sklearn.metrics import classification_report,accuracy_score\n",
    "from sklearn.metrics import confusion_matrix"
   ]
  },
  {
   "cell_type": "code",
   "execution_count": 20,
   "metadata": {
    "colab": {
     "base_uri": "https://localhost:8080/",
     "height": 294
    },
    "colab_type": "code",
    "id": "VyNviccl3oAZ",
    "outputId": "43f7e8e1-df9e-4a26-cc47-c0ca51ebe092"
   },
   "outputs": [
    {
     "name": "stdout",
     "output_type": "stream",
     "text": [
      "              precision    recall  f1-score   support\n",
      "\n",
      "           0       0.61      0.83      0.70        54\n",
      "           1       0.74      0.57      0.65        61\n",
      "           2       0.82      0.75      0.78        60\n",
      "           3       0.65      0.63      0.64        35\n",
      "\n",
      "    accuracy                           0.70       210\n",
      "   macro avg       0.70      0.70      0.69       210\n",
      "weighted avg       0.71      0.70      0.70       210\n",
      "\n",
      "[[45  2  5  2]\n",
      " [11 35  5 10]\n",
      " [12  3 45  0]\n",
      " [ 6  7  0 22]]\n"
     ]
    },
    {
     "data": {
      "text/plain": [
       "70.0"
      ]
     },
     "execution_count": 20,
     "metadata": {
      "tags": []
     },
     "output_type": "execute_result"
    }
   ],
   "source": [
    "y_pred = model.predict(X_test)\n",
    "report=metrics.classification_report(np.argmax(y_test,axis=1),np.argmax(y_pred,axis=1)) \n",
    "print(report)\n",
    "#print(accuracy_score(y_true=Y,y_pred=y_predict))\n",
    "#print(confusion_matrix(y_test, y_pred) )\n",
    "matrix = metrics.confusion_matrix(np.argmax(y_test,axis=1) ,np.argmax(y_pred,axis=1))\n",
    "print(matrix)\n",
    "metrics.accuracy_score(np.argmax(y_test,axis=1),np.argmax(y_pred,axis=1))*100 "
   ]
  },
  {
   "cell_type": "markdown",
   "metadata": {
    "colab_type": "text",
    "id": "V7yROvD831NF"
   },
   "source": [
    "SECOND\n"
   ]
  },
  {
   "cell_type": "code",
   "execution_count": 21,
   "metadata": {
    "colab": {
     "base_uri": "https://localhost:8080/",
     "height": 124
    },
    "colab_type": "code",
    "id": "XNB61qZE33Z3",
    "outputId": "09960a51-76ab-4564-d0fc-accd3628a35d"
   },
   "outputs": [
    {
     "name": "stdout",
     "output_type": "stream",
     "text": [
      "WARNING:tensorflow:From /usr/local/lib/python3.6/dist-packages/tflearn/optimizers.py:183: The name tf.train.RMSPropOptimizer is deprecated. Please use tf.compat.v1.train.RMSPropOptimizer instead.\n",
      "\n",
      "WARNING:tensorflow:From /usr/local/lib/python3.6/dist-packages/tensorflow_core/python/training/rmsprop.py:119: calling Ones.__init__ (from tensorflow.python.ops.init_ops) with dtype is deprecated and will be removed in a future version.\n",
      "Instructions for updating:\n",
      "Call initializer instance with the dtype argument instead of passing it to the constructor\n"
     ]
    }
   ],
   "source": [
    "tf.reset_default_graph() \n",
    "convnet = input_data(shape =[None, IMG_SIZE, IMG_SIZE, 1], name ='input') \n",
    "  \n",
    "convnet = conv_2d(convnet, 32, 5, activation ='relu') \n",
    "convnet = max_pool_2d(convnet, 5) \n",
    "  \n",
    "convnet = conv_2d(convnet, 64, 5, activation ='relu') \n",
    "convnet = max_pool_2d(convnet, 5)\n",
    "\n",
    "convnet = conv_2d(convnet, 64, 5, activation ='relu') # added_2\n",
    "convnet = max_pool_2d(convnet, 5)\n",
    "  \n",
    "convnet = conv_2d(convnet, 128, 5, activation ='relu') \n",
    "convnet = max_pool_2d(convnet, 5) \n",
    "convnet = dropout(convnet, 0.8)    # added\n",
    "  \n",
    "convnet = conv_2d(convnet, 64, 5, activation ='relu') \n",
    "convnet = max_pool_2d(convnet, 5) \n",
    "  \n",
    "convnet = conv_2d(convnet, 32, 5, activation ='relu') \n",
    "convnet = max_pool_2d(convnet, 5) \n",
    "\n",
    "convnet = conv_2d(convnet, 32, 5, activation ='relu') #added_1\n",
    "convnet = max_pool_2d(convnet, 5) \n",
    "\n",
    "convnet = fully_connected(convnet, 1024, activation ='relu') \n",
    "convnet = dropout(convnet, 0.8) \n",
    "  \n",
    "convnet = fully_connected(convnet, 4, activation ='softmax') \n",
    "convnet = regression(convnet, optimizer ='rmsprop', learning_rate = LR, \n",
    "      loss ='categorical_crossentropy', name ='targets') \n",
    "\n",
    "m = tflearn.DNN(convnet, tensorboard_dir ='log')"
   ]
  },
  {
   "cell_type": "code",
   "execution_count": 25,
   "metadata": {
    "colab": {
     "base_uri": "https://localhost:8080/",
     "height": 104
    },
    "colab_type": "code",
    "id": "S725vZoa30Cu",
    "outputId": "cc05329a-e80b-49f8-bed5-b1ee1e3bed4c"
   },
   "outputs": [
    {
     "name": "stdout",
     "output_type": "stream",
     "text": [
      "Training Step: 8399  | total loss: \u001b[1m\u001b[32m0.37681\u001b[0m\u001b[0m | time: 0.256s\n",
      "| RMSProp | epoch: 600 | loss: 0.37681 - acc: 0.9722 -- iter: 832/837\n",
      "Training Step: 8400  | total loss: \u001b[1m\u001b[32m0.33953\u001b[0m\u001b[0m | time: 0.276s\n",
      "| RMSProp | epoch: 600 | loss: 0.33953 - acc: 0.9749 -- iter: 837/837\n",
      "--\n"
     ]
    }
   ],
   "source": [
    "model_name='cnn'\n",
    "# epoch = 50 taken \n",
    "m.fit({'input': X_train}, {'targets': y_train}, n_epoch = 500,snapshot_step=300,show_metric=True,run_id=model_name)  "
   ]
  },
  {
   "cell_type": "code",
   "execution_count": 26,
   "metadata": {
    "colab": {
     "base_uri": "https://localhost:8080/",
     "height": 294
    },
    "colab_type": "code",
    "id": "8Ahgb1u36bYt",
    "outputId": "f01d439c-d083-4153-96ef-0ed0bcfac557"
   },
   "outputs": [
    {
     "name": "stdout",
     "output_type": "stream",
     "text": [
      "              precision    recall  f1-score   support\n",
      "\n",
      "           0       0.71      0.72      0.72        54\n",
      "           1       0.79      0.67      0.73        61\n",
      "           2       0.78      0.93      0.85        60\n",
      "           3       0.68      0.60      0.64        35\n",
      "\n",
      "    accuracy                           0.75       210\n",
      "   macro avg       0.74      0.73      0.73       210\n",
      "weighted avg       0.75      0.75      0.74       210\n",
      "\n",
      "[[39  3 11  1]\n",
      " [ 7 41  4  9]\n",
      " [ 4  0 56  0]\n",
      " [ 5  8  1 21]]\n"
     ]
    },
    {
     "data": {
      "text/plain": [
       "74.76190476190476"
      ]
     },
     "execution_count": 26,
     "metadata": {
      "tags": []
     },
     "output_type": "execute_result"
    }
   ],
   "source": [
    "y_pred = m.predict(X_test)\n",
    "report=metrics.classification_report(np.argmax(y_test,axis=1),np.argmax(y_pred,axis=1)) \n",
    "print(report)\n",
    "#print(accuracy_score(y_true=Y,y_pred=y_predict))\n",
    "#print(confusion_matrix(y_test, y_pred) )\n",
    "matrix = metrics.confusion_matrix(np.argmax(y_test,axis=1) ,np.argmax(y_pred,axis=1))\n",
    "print(matrix)\n",
    "metrics.accuracy_score(np.argmax(y_test,axis=1),np.argmax(y_pred,axis=1))*100 "
   ]
  },
  {
   "cell_type": "markdown",
   "metadata": {
    "colab_type": "text",
    "id": "Tbik3WZVOo3B"
   },
   "source": [
    "Third"
   ]
  },
  {
   "cell_type": "code",
   "execution_count": 0,
   "metadata": {
    "colab": {},
    "colab_type": "code",
    "id": "mWbWEDuJOydJ"
   },
   "outputs": [],
   "source": [
    "tf.reset_default_graph() \n",
    "convnet = input_data(shape =[None, IMG_SIZE, IMG_SIZE, 1], name ='input') \n",
    "  \n",
    "convnet = conv_2d(convnet, 32, 5, activation ='relu') \n",
    "convnet = max_pool_2d(convnet, 5) \n",
    "  \n",
    "convnet = conv_2d(convnet, 64, 5, activation ='relu') \n",
    "convnet = max_pool_2d(convnet, 5)\n",
    "\n",
    "convnet = conv_2d(convnet, 128, 5, activation ='relu') \n",
    "convnet = max_pool_2d(convnet, 5) \n",
    "\n",
    "  \n",
    "convnet = conv_2d(convnet, 64, 5, activation ='relu') \n",
    "convnet = max_pool_2d(convnet, 5) \n",
    "  \n",
    "convnet = conv_2d(convnet, 32, 5, activation ='relu') \n",
    "convnet = max_pool_2d(convnet, 5) \n",
    "\n",
    "\n",
    "convnet = fully_connected(convnet, 1024, activation ='relu') \n",
    "convnet = dropout(convnet, 0.8) \n",
    "  \n",
    "convnet = fully_connected(convnet, 4, activation ='softmax') \n",
    "convnet = regression(convnet, optimizer ='adagrad', learning_rate = LR, \n",
    "      loss ='categorical_crossentropy', name ='targets') \n",
    "\n",
    "n = tflearn.DNN(convnet, tensorboard_dir ='log')"
   ]
  },
  {
   "cell_type": "code",
   "execution_count": 28,
   "metadata": {
    "colab": {
     "base_uri": "https://localhost:8080/",
     "height": 104
    },
    "colab_type": "code",
    "id": "JPb5CH_nPAVB",
    "outputId": "f4f18996-4077-44c1-a36a-02a9ec26410a"
   },
   "outputs": [
    {
     "name": "stdout",
     "output_type": "stream",
     "text": [
      "Training Step: 6999  | total loss: \u001b[1m\u001b[32m0.14072\u001b[0m\u001b[0m | time: 0.226s\n",
      "| AdaGrad | epoch: 500 | loss: 0.14072 - acc: 0.9810 -- iter: 832/837\n",
      "Training Step: 7000  | total loss: \u001b[1m\u001b[32m0.13044\u001b[0m\u001b[0m | time: 0.244s\n",
      "| AdaGrad | epoch: 500 | loss: 0.13044 - acc: 0.9829 -- iter: 837/837\n",
      "--\n"
     ]
    }
   ],
   "source": [
    "model_name='c'\n",
    "# epoch = 50 taken \n",
    "n.fit({'input': X_train}, {'targets': y_train}, n_epoch = 500,snapshot_step=300,show_metric=True,run_id=model_name)  "
   ]
  },
  {
   "cell_type": "code",
   "execution_count": 29,
   "metadata": {
    "colab": {
     "base_uri": "https://localhost:8080/",
     "height": 294
    },
    "colab_type": "code",
    "id": "UqqAM2GcPEki",
    "outputId": "0251987a-24fa-4fd3-92c2-713a4419b0bf"
   },
   "outputs": [
    {
     "name": "stdout",
     "output_type": "stream",
     "text": [
      "              precision    recall  f1-score   support\n",
      "\n",
      "           0       0.74      0.74      0.74        54\n",
      "           1       0.75      0.80      0.78        61\n",
      "           2       0.92      0.78      0.85        60\n",
      "           3       0.60      0.69      0.64        35\n",
      "\n",
      "    accuracy                           0.76       210\n",
      "   macro avg       0.75      0.75      0.75       210\n",
      "weighted avg       0.77      0.76      0.77       210\n",
      "\n",
      "[[40  4  4  6]\n",
      " [ 6 49  0  6]\n",
      " [ 8  1 47  4]\n",
      " [ 0 11  0 24]]\n"
     ]
    },
    {
     "data": {
      "text/plain": [
       "76.19047619047619"
      ]
     },
     "execution_count": 29,
     "metadata": {
      "tags": []
     },
     "output_type": "execute_result"
    }
   ],
   "source": [
    "y_pred = n.predict(X_test)\n",
    "report=metrics.classification_report(np.argmax(y_test,axis=1),np.argmax(y_pred,axis=1)) \n",
    "print(report)\n",
    "#print(accuracy_score(y_true=Y,y_pred=y_predict))\n",
    "#print(confusion_matrix(y_test, y_pred) )\n",
    "matrix = metrics.confusion_matrix(np.argmax(y_test,axis=1) ,np.argmax(y_pred,axis=1))\n",
    "print(matrix)\n",
    "metrics.accuracy_score(np.argmax(y_test,axis=1),np.argmax(y_pred,axis=1))*100 "
   ]
  },
  {
   "cell_type": "markdown",
   "metadata": {
    "colab_type": "text",
    "id": "sWnoabtZN6O6"
   },
   "source": [
    "Fourth"
   ]
  },
  {
   "cell_type": "code",
   "execution_count": 0,
   "metadata": {
    "colab": {},
    "colab_type": "code",
    "id": "L89PhTJLOJSK"
   },
   "outputs": [],
   "source": [
    "LR1=0.005\n",
    "tf.reset_default_graph() \n",
    "convnet = input_data(shape =[None, IMG_SIZE, IMG_SIZE, 1], name ='input') \n",
    "  \n",
    "convnet = conv_2d(convnet, 32, 5, activation ='relu') \n",
    "convnet = max_pool_2d(convnet, 5) \n",
    "  \n",
    "convnet = conv_2d(convnet, 64, 5, activation ='relu') \n",
    "convnet = max_pool_2d(convnet, 5)\n",
    "\n",
    "convnet = conv_2d(convnet, 128, 5, activation ='relu') \n",
    "convnet = max_pool_2d(convnet, 5) \n",
    "\n",
    "  \n",
    "convnet = conv_2d(convnet, 64, 5, activation ='relu') \n",
    "convnet = max_pool_2d(convnet, 5) \n",
    "  \n",
    "convnet = conv_2d(convnet, 32, 5, activation ='relu') \n",
    "convnet = max_pool_2d(convnet, 5) \n",
    "\n",
    "\n",
    "convnet = fully_connected(convnet, 1024, activation ='relu') \n",
    "convnet = dropout(convnet, 0.8) \n",
    "  \n",
    "convnet = fully_connected(convnet, 4, activation ='softmax') \n",
    "convnet = regression(convnet, optimizer ='adagrad', learning_rate = LR1, \n",
    "      loss ='categorical_crossentropy', name ='targets') \n",
    "\n",
    "o = tflearn.DNN(convnet, tensorboard_dir ='log')"
   ]
  },
  {
   "cell_type": "code",
   "execution_count": 60,
   "metadata": {
    "colab": {
     "base_uri": "https://localhost:8080/",
     "height": 104
    },
    "colab_type": "code",
    "id": "PlQtc24WORrp",
    "outputId": "93c6ca90-f2ba-46ab-b2e9-8d6e8c409e7c"
   },
   "outputs": [
    {
     "name": "stdout",
     "output_type": "stream",
     "text": [
      "Training Step: 6999  | total loss: \u001b[1m\u001b[32m0.00190\u001b[0m\u001b[0m | time: 0.234s\n",
      "| AdaGrad | epoch: 500 | loss: 0.00190 - acc: 0.9999 -- iter: 832/837\n",
      "Training Step: 7000  | total loss: \u001b[1m\u001b[32m0.00178\u001b[0m\u001b[0m | time: 0.255s\n",
      "| AdaGrad | epoch: 500 | loss: 0.00178 - acc: 0.9999 -- iter: 837/837\n",
      "--\n"
     ]
    }
   ],
   "source": [
    "model_name='cn'\n",
    "# epoch = 50 taken \n",
    "o.fit({'input': X_train}, {'targets': y_train}, n_epoch = 500,snapshot_step=300,show_metric=True,run_id=model_name)  "
   ]
  },
  {
   "cell_type": "code",
   "execution_count": 61,
   "metadata": {
    "colab": {
     "base_uri": "https://localhost:8080/",
     "height": 294
    },
    "colab_type": "code",
    "id": "5CoYR-57OUop",
    "outputId": "29c18f28-46a6-4ac7-ff49-c7485514045e"
   },
   "outputs": [
    {
     "name": "stdout",
     "output_type": "stream",
     "text": [
      "              precision    recall  f1-score   support\n",
      "\n",
      "           0       0.77      0.85      0.81        54\n",
      "           1       0.80      0.84      0.82        61\n",
      "           2       0.87      0.80      0.83        60\n",
      "           3       0.71      0.63      0.67        35\n",
      "\n",
      "    accuracy                           0.80       210\n",
      "   macro avg       0.79      0.78      0.78       210\n",
      "weighted avg       0.80      0.80      0.79       210\n",
      "\n",
      "[[46  1  5  2]\n",
      " [ 2 51  1  7]\n",
      " [10  2 48  0]\n",
      " [ 2 10  1 22]]\n"
     ]
    },
    {
     "data": {
      "text/plain": [
       "79.52380952380952"
      ]
     },
     "execution_count": 61,
     "metadata": {
      "tags": []
     },
     "output_type": "execute_result"
    }
   ],
   "source": [
    "y_pred = o.predict(X_test)\n",
    "report=metrics.classification_report(np.argmax(y_test,axis=1),np.argmax(y_pred,axis=1)) \n",
    "print(report)\n",
    "#print(accuracy_score(y_true=Y,y_pred=y_predict))\n",
    "#print(confusion_matrix(y_test, y_pred) )\n",
    "matrix = metrics.confusion_matrix(np.argmax(y_test,axis=1) ,np.argmax(y_pred,axis=1))\n",
    "print(matrix)\n",
    "metrics.accuracy_score(np.argmax(y_test,axis=1),np.argmax(y_pred,axis=1))*100 "
   ]
  },
  {
   "cell_type": "markdown",
   "metadata": {
    "colab_type": "text",
    "id": "Tu6PTgXwXC9J"
   },
   "source": [
    "Fifth"
   ]
  },
  {
   "cell_type": "code",
   "execution_count": 0,
   "metadata": {
    "colab": {},
    "colab_type": "code",
    "id": "50QQ5HcBXErf"
   },
   "outputs": [],
   "source": [
    "LR1=5e-05\n",
    "tf.reset_default_graph() \n",
    "convnet = input_data(shape =[None, IMG_SIZE, IMG_SIZE, 1], name ='input') \n",
    "  \n",
    "convnet = conv_2d(convnet, 32, 5, activation ='relu') \n",
    "convnet = max_pool_2d(convnet, 5) \n",
    "  \n",
    "convnet = conv_2d(convnet, 64, 5, activation ='relu') \n",
    "convnet = max_pool_2d(convnet, 5)\n",
    "\n",
    "convnet = conv_2d(convnet, 128, 5, activation ='relu') \n",
    "convnet = max_pool_2d(convnet, 5) \n",
    "\n",
    "  \n",
    "convnet = conv_2d(convnet, 64, 5, activation ='relu') \n",
    "convnet = max_pool_2d(convnet, 5) \n",
    "  \n",
    "convnet = conv_2d(convnet, 32, 5, activation ='relu') \n",
    "convnet = max_pool_2d(convnet, 5) \n",
    "\n",
    "\n",
    "convnet = fully_connected(convnet, 1024, activation ='relu') \n",
    "convnet = dropout(convnet, 0.8) \n",
    "  \n",
    "convnet = fully_connected(convnet, 4, activation ='softmax') \n",
    "convnet = regression(convnet, optimizer ='adam', learning_rate = LR1, \n",
    "      loss ='categorical_crossentropy', name ='targets') \n",
    "\n",
    "p = tflearn.DNN(convnet, tensorboard_dir ='log')"
   ]
  },
  {
   "cell_type": "code",
   "execution_count": 88,
   "metadata": {
    "colab": {
     "base_uri": "https://localhost:8080/",
     "height": 104
    },
    "colab_type": "code",
    "id": "881dGvpAXMcP",
    "outputId": "b59d082b-9a0d-4f55-a538-cc6ecd4843e0"
   },
   "outputs": [
    {
     "name": "stdout",
     "output_type": "stream",
     "text": [
      "Training Step: 6999  | total loss: \u001b[1m\u001b[32m0.00383\u001b[0m\u001b[0m | time: 0.227s\n",
      "| Adam | epoch: 500 | loss: 0.00383 - acc: 0.9997 -- iter: 832/837\n",
      "Training Step: 7000  | total loss: \u001b[1m\u001b[32m0.00348\u001b[0m\u001b[0m | time: 0.246s\n",
      "| Adam | epoch: 500 | loss: 0.00348 - acc: 0.9997 -- iter: 837/837\n",
      "--\n"
     ]
    }
   ],
   "source": [
    "model_name='cp'\n",
    "# epoch = 50 taken \n",
    "p.fit({'input': X_train}, {'targets': y_train}, n_epoch = 500,snapshot_step=300,show_metric=True,run_id=model_name)  "
   ]
  },
  {
   "cell_type": "code",
   "execution_count": 89,
   "metadata": {
    "colab": {
     "base_uri": "https://localhost:8080/",
     "height": 294
    },
    "colab_type": "code",
    "id": "PYHEUXVbXTFP",
    "outputId": "4d7980bd-877c-414b-b389-96f81cf1dcd9"
   },
   "outputs": [
    {
     "name": "stdout",
     "output_type": "stream",
     "text": [
      "              precision    recall  f1-score   support\n",
      "\n",
      "           0       0.84      0.78      0.81        54\n",
      "           1       0.85      0.85      0.85        61\n",
      "           2       0.84      0.87      0.85        60\n",
      "           3       0.70      0.74      0.72        35\n",
      "\n",
      "    accuracy                           0.82       210\n",
      "   macro avg       0.81      0.81      0.81       210\n",
      "weighted avg       0.82      0.82      0.82       210\n",
      "\n",
      "[[42  1  7  4]\n",
      " [ 1 52  2  6]\n",
      " [ 7  0 52  1]\n",
      " [ 0  8  1 26]]\n"
     ]
    },
    {
     "data": {
      "text/plain": [
       "81.9047619047619"
      ]
     },
     "execution_count": 89,
     "metadata": {
      "tags": []
     },
     "output_type": "execute_result"
    }
   ],
   "source": [
    "y_pred = p.predict(X_test)\n",
    "report=metrics.classification_report(np.argmax(y_test,axis=1),np.argmax(y_pred,axis=1)) \n",
    "print(report)\n",
    "#print(accuracy_score(y_true=Y,y_pred=y_predict))\n",
    "#print(confusion_matrix(y_test, y_pred) )\n",
    "matrix = metrics.confusion_matrix(np.argmax(y_test,axis=1) ,np.argmax(y_pred,axis=1))\n",
    "print(matrix)\n",
    "metrics.accuracy_score(np.argmax(y_test,axis=1),np.argmax(y_pred,axis=1))*100 "
   ]
  },
  {
   "cell_type": "code",
   "execution_count": 0,
   "metadata": {
    "colab": {},
    "colab_type": "code",
    "id": "7eN9Gp3KdyYG"
   },
   "outputs": [],
   "source": []
  }
 ],
 "metadata": {
  "accelerator": "GPU",
  "colab": {
   "authorship_tag": "ABX9TyOtx9w20AIV6cwmLUEktD3m",
   "collapsed_sections": [],
   "include_colab_link": true,
   "mount_file_id": "1xZoB4PK89c4kilY1LChyIbuOGQCELC0o",
   "name": "emotion_spectogram.ipynb",
   "provenance": []
  },
  "kernelspec": {
   "display_name": "Python 3",
   "language": "python",
   "name": "python3"
  },
  "language_info": {
   "codemirror_mode": {
    "name": "ipython",
    "version": 3
   },
   "file_extension": ".py",
   "mimetype": "text/x-python",
   "name": "python",
   "nbconvert_exporter": "python",
   "pygments_lexer": "ipython3",
   "version": "3.7.6"
  }
 },
 "nbformat": 4,
 "nbformat_minor": 1
}
